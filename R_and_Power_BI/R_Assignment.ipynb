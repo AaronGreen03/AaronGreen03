{
  "nbformat": 4,
  "nbformat_minor": 0,
  "metadata": {
    "colab": {
      "provenance": [],
      "mount_file_id": "1OY3JOp8NFMhLO-Us3yXTFGcU0uDIdATb",
      "authorship_tag": "ABX9TyMNz27/JJkumGSgVRXAMcVe",
      "include_colab_link": true
    },
    "kernelspec": {
      "name": "ir",
      "display_name": "R"
    },
    "language_info": {
      "name": "R"
    }
  },
  "cells": [
    {
      "cell_type": "markdown",
      "metadata": {
        "id": "view-in-github",
        "colab_type": "text"
      },
      "source": [
        "<a href=\"https://colab.research.google.com/github/AaronGreen03/AaronGreen03/blob/main/R_Assignment.ipynb\" target=\"_parent\"><img src=\"https://colab.research.google.com/assets/colab-badge.svg\" alt=\"Open In Colab\"/></a>"
      ]
    },
    {
      "cell_type": "code",
      "execution_count": null,
      "metadata": {
        "id": "0TEnkVJTMGer",
        "collapsed": true
      },
      "outputs": [],
      "source": [
        "#Load the data\n",
        "df <- read.csv(\"/content/drive/MyDrive/R Resources/HollywoodsMostProfitableStories.csv\")\n",
        "#View data\n",
        "View(df)\n",
        "#Load library\n",
        "install.packages(\"tidyverse\")\n"
      ]
    },
    {
      "cell_type": "code",
      "source": [
        "#Import library\n",
        "library(tidyverse)\n",
        "\n",
        "# Check data types:\n",
        "str(df)\n"
      ],
      "metadata": {
        "colab": {
          "base_uri": "https://localhost:8080/"
        },
        "id": "IesTp7ziylhd",
        "outputId": "669946be-d586-4adc-c123-48f35e751e8f"
      },
      "execution_count": null,
      "outputs": [
        {
          "output_type": "stream",
          "name": "stderr",
          "text": [
            "── \u001b[1mAttaching core tidyverse packages\u001b[22m ──────────────────────── tidyverse 2.0.0 ──\n",
            "\u001b[32m✔\u001b[39m \u001b[34mdplyr    \u001b[39m 1.1.4     \u001b[32m✔\u001b[39m \u001b[34mreadr    \u001b[39m 2.1.5\n",
            "\u001b[32m✔\u001b[39m \u001b[34mforcats  \u001b[39m 1.0.0     \u001b[32m✔\u001b[39m \u001b[34mstringr  \u001b[39m 1.5.1\n",
            "\u001b[32m✔\u001b[39m \u001b[34mggplot2  \u001b[39m 3.4.4     \u001b[32m✔\u001b[39m \u001b[34mtibble   \u001b[39m 3.2.1\n",
            "\u001b[32m✔\u001b[39m \u001b[34mlubridate\u001b[39m 1.9.3     \u001b[32m✔\u001b[39m \u001b[34mtidyr    \u001b[39m 1.3.1\n",
            "\u001b[32m✔\u001b[39m \u001b[34mpurrr    \u001b[39m 1.0.2     \n",
            "── \u001b[1mConflicts\u001b[22m ────────────────────────────────────────── tidyverse_conflicts() ──\n",
            "\u001b[31m✖\u001b[39m \u001b[34mpurrr\u001b[39m::\u001b[32m%||%()\u001b[39m   masks \u001b[34mbase\u001b[39m::%||%()\n",
            "\u001b[31m✖\u001b[39m \u001b[34mdplyr\u001b[39m::\u001b[32mfilter()\u001b[39m masks \u001b[34mstats\u001b[39m::filter()\n",
            "\u001b[31m✖\u001b[39m \u001b[34mdplyr\u001b[39m::\u001b[32mlag()\u001b[39m    masks \u001b[34mstats\u001b[39m::lag()\n",
            "\u001b[36mℹ\u001b[39m Use the conflicted package (\u001b[3m\u001b[34m<http://conflicted.r-lib.org/>\u001b[39m\u001b[23m) to force all conflicts to become errors\n"
          ]
        },
        {
          "output_type": "stream",
          "name": "stdout",
          "text": [
            "'data.frame':\t74 obs. of  8 variables:\n",
            " $ Film             : chr  \"27 Dresses\" \"(500) Days of Summer\" \"A Dangerous Method\" \"A Serious Man\" ...\n",
            " $ Genre            : chr  \"Comedy\" \"Comedy\" \"Drama\" \"Drama\" ...\n",
            " $ Lead.Studio      : chr  \"Fox\" \"Fox\" \"Independent\" \"Universal\" ...\n",
            " $ Audience..score..: int  71 81 89 64 84 80 66 80 51 52 ...\n",
            " $ Profitability    : num  5.344 8.096 0.449 4.383 0.653 ...\n",
            " $ Rotten.Tomatoes..: int  40 87 79 89 54 84 29 93 40 26 ...\n",
            " $ Worldwide.Gross  : num  160.31 60.72 8.97 30.68 29.37 ...\n",
            " $ Year             : int  2008 2009 2011 2009 2007 2011 2010 2007 2008 2008 ...\n"
          ]
        }
      ]
    },
    {
      "cell_type": "code",
      "source": [
        "# Check for missing values:\n",
        "colSums(is.na(df))\n",
        "\n",
        "# Drop missing values using na.omit\n",
        "df <- na.omit(df)\n",
        "\n",
        "# Or drop missing values using drop_na from tidyverse\n",
        "df <- df %>% drop_na()\n",
        "\n",
        "# check to make sure that the rows have been removed\n",
        "colSums(is.na(df))\n"
      ],
      "metadata": {
        "colab": {
          "base_uri": "https://localhost:8080/",
          "height": 52
        },
        "id": "VHrDZ4wEzwSY",
        "outputId": "aeb3a793-9b0b-4095-cdc0-b110163603ae"
      },
      "execution_count": null,
      "outputs": [
        {
          "output_type": "display_data",
          "data": {
            "text/html": [
              "<style>\n",
              ".dl-inline {width: auto; margin:0; padding: 0}\n",
              ".dl-inline>dt, .dl-inline>dd {float: none; width: auto; display: inline-block}\n",
              ".dl-inline>dt::after {content: \":\\0020\"; padding-right: .5ex}\n",
              ".dl-inline>dt:not(:first-of-type) {padding-left: .5ex}\n",
              "</style><dl class=dl-inline><dt>Film</dt><dd>0</dd><dt>Genre</dt><dd>0</dd><dt>Lead.Studio</dt><dd>0</dd><dt>Audience..score..</dt><dd>1</dd><dt>Profitability</dt><dd>3</dd><dt>Rotten.Tomatoes..</dt><dd>1</dd><dt>Worldwide.Gross</dt><dd>0</dd><dt>Year</dt><dd>0</dd></dl>\n"
            ],
            "text/markdown": "Film\n:   0Genre\n:   0Lead.Studio\n:   0Audience..score..\n:   1Profitability\n:   3Rotten.Tomatoes..\n:   1Worldwide.Gross\n:   0Year\n:   0\n\n",
            "text/latex": "\\begin{description*}\n\\item[Film] 0\n\\item[Genre] 0\n\\item[Lead.Studio] 0\n\\item[Audience..score..] 1\n\\item[Profitability] 3\n\\item[Rotten.Tomatoes..] 1\n\\item[Worldwide.Gross] 0\n\\item[Year] 0\n\\end{description*}\n",
            "text/plain": [
              "             Film             Genre       Lead.Studio Audience..score.. \n",
              "                0                 0                 0                 1 \n",
              "    Profitability Rotten.Tomatoes..   Worldwide.Gross              Year \n",
              "                3                 1                 0                 0 "
            ]
          },
          "metadata": {}
        },
        {
          "output_type": "display_data",
          "data": {
            "text/html": [
              "<style>\n",
              ".dl-inline {width: auto; margin:0; padding: 0}\n",
              ".dl-inline>dt, .dl-inline>dd {float: none; width: auto; display: inline-block}\n",
              ".dl-inline>dt::after {content: \":\\0020\"; padding-right: .5ex}\n",
              ".dl-inline>dt:not(:first-of-type) {padding-left: .5ex}\n",
              "</style><dl class=dl-inline><dt>Film</dt><dd>0</dd><dt>Genre</dt><dd>0</dd><dt>Lead.Studio</dt><dd>0</dd><dt>Audience..score..</dt><dd>0</dd><dt>Profitability</dt><dd>0</dd><dt>Rotten.Tomatoes..</dt><dd>0</dd><dt>Worldwide.Gross</dt><dd>0</dd><dt>Year</dt><dd>0</dd></dl>\n"
            ],
            "text/markdown": "Film\n:   0Genre\n:   0Lead.Studio\n:   0Audience..score..\n:   0Profitability\n:   0Rotten.Tomatoes..\n:   0Worldwide.Gross\n:   0Year\n:   0\n\n",
            "text/latex": "\\begin{description*}\n\\item[Film] 0\n\\item[Genre] 0\n\\item[Lead.Studio] 0\n\\item[Audience..score..] 0\n\\item[Profitability] 0\n\\item[Rotten.Tomatoes..] 0\n\\item[Worldwide.Gross] 0\n\\item[Year] 0\n\\end{description*}\n",
            "text/plain": [
              "             Film             Genre       Lead.Studio Audience..score.. \n",
              "                0                 0                 0                 0 \n",
              "    Profitability Rotten.Tomatoes..   Worldwide.Gross              Year \n",
              "                0                 0                 0                 0 "
            ]
          },
          "metadata": {}
        }
      ]
    },
    {
      "cell_type": "code",
      "source": [
        "#Summary Statistics:\n",
        "df1 <- df\n",
        "summary(df1)\n",
        "\n",
        "#scatterplot\n",
        "ggplot(df1, aes(x=Lead.Studio, y=Rotten.Tomatoes..)) + geom_point()+ scale_y_continuous(labels = scales::comma)+coord_cartesian(ylim = c(0, 110))+theme(axis.text.x = element_text(angle = 90))\n",
        "\n",
        " #bar chart\n",
        "ggplot(df1, aes(x=Year)) + geom_bar()\n"
      ],
      "metadata": {
        "colab": {
          "base_uri": "https://localhost:8080/",
          "height": 1000
        },
        "id": "1ehMbmVG12wh",
        "outputId": "06c2b336-4ea0-4927-8223-7c016e74165d"
      },
      "execution_count": null,
      "outputs": [
        {
          "output_type": "display_data",
          "data": {
            "text/plain": [
              "     Film              Genre           Lead.Studio        Audience..score..\n",
              " Length:70          Length:70          Length:70          Min.   :35.00    \n",
              " Class :character   Class :character   Class :character   1st Qu.:53.25    \n",
              " Mode  :character   Mode  :character   Mode  :character   Median :64.50    \n",
              "                                                          Mean   :64.46    \n",
              "                                                          3rd Qu.:75.50    \n",
              "                                                          Max.   :89.00    \n",
              " Profitability    Rotten.Tomatoes.. Worldwide.Gross        Year     \n",
              " Min.   : 0.005   Min.   : 3.00     Min.   :  0.025   Min.   :2007  \n",
              " 1st Qu.: 1.802   1st Qu.:27.25     1st Qu.: 32.809   1st Qu.:2008  \n",
              " Median : 2.646   Median :45.50     Median : 85.891   Median :2009  \n",
              " Mean   : 4.785   Mean   :47.76     Mean   :141.933   Mean   :2009  \n",
              " 3rd Qu.: 4.977   3rd Qu.:64.75     3rd Qu.:202.467   3rd Qu.:2010  \n",
              " Max.   :66.934   Max.   :96.00     Max.   :709.820   Max.   :2011  "
            ]
          },
          "metadata": {}
        },
        {
          "output_type": "display_data",
          "data": {
            "text/plain": [
              "plot without title"
            ],
            "image/png": "[encoded data removed]"
          },
          "metadata": {
            "image/png": {
              "width": 420,
              "height": 420
            }
          }
        },
        {
          "output_type": "display_data",
          "data": {
            "text/plain": [
              "plot without title"
            ],
            "image/png": "[encoded data removed]"
          },
          "metadata": {
            "image/png": {
              "width": 420,
              "height": 420
            }
          }
        }
      ]
    },
    {
      "cell_type": "code",
      "source": [
        "#Export clean data\n",
        "write.csv(df1, \"/content/drive/MyDrive/R Resources/clean_df.csv\")\n"
      ],
      "metadata": {
        "id": "H8_KKVAc28z5"
      },
      "execution_count": null,
      "outputs": []
    }
  ]
}
